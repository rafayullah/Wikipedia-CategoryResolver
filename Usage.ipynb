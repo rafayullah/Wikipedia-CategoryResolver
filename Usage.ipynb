{
 "cells": [
  {
   "cell_type": "code",
   "execution_count": 3,
   "metadata": {},
   "outputs": [],
   "source": [
    "from WikipediaCategoryResolver import Wiki\n",
    "\n",
    "wiki = Wiki()"
   ]
  },
  {
   "cell_type": "code",
   "execution_count": 4,
   "metadata": {},
   "outputs": [
    {
     "data": {
      "text/plain": [
       "{'topic': 'IBM',\n",
       " 'snippet': 'International Business Machines Corporation (IBM) is an American multinational technology company headquartered in Armonk, New York, with operations in',\n",
       " 'categories': ['opencorporates_groupings',\n",
       "  'ibm',\n",
       "  '1888_establishments_in_new_york_(state)',\n",
       "  'technology_companies_established_in_1888',\n",
       "  'american_companies_established_in_1888',\n",
       "  'cloud_computing_providers',\n",
       "  'collier_trophy_recipients',\n",
       "  'companies_based_in_westchester_county,_new_york',\n",
       "  'companies_formed_by_merger',\n",
       "  'companies_in_the_dow_jones_industrial_average',\n",
       "  'companies_listed_on_the_new_york_stock_exchange',\n",
       "  'data_companies',\n",
       "  'data_quality_companies',\n",
       "  'display_technology_companies',\n",
       "  'electronics_companies_of_the_united_states',\n",
       "  'foundry_semiconductor_companies',\n",
       "  'information_technology_consulting_firms_of_the_united_states',\n",
       "  'multinational_companies_headquartered_in_the_united_states',\n",
       "  'national_medal_of_technology_recipients',\n",
       "  'outsourcing_companies',\n",
       "  'point_of_sale_companies',\n",
       "  'software_companies_based_in_new_york_(state)',\n",
       "  'storage_area_network_companies',\n",
       "  'software_companies_of_the_united_states']}"
      ]
     },
     "execution_count": 4,
     "metadata": {},
     "output_type": "execute_result"
    }
   ],
   "source": [
    "wiki.get_category('IBM')  #Example"
   ]
  },
  {
   "cell_type": "code",
   "execution_count": 12,
   "metadata": {},
   "outputs": [
    {
     "data": {
      "text/plain": [
       "{'arm_linux_distributions',\n",
       " 'enterprise_linux_distributions',\n",
       " 'ia-32_linux_distributions',\n",
       " 'power_isa_linux_distributions',\n",
       " 'x86-64_linux_distributions'}"
      ]
     },
     "execution_count": 12,
     "metadata": {},
     "output_type": "execute_result"
    }
   ],
   "source": [
    "ubuntu = wiki.get_category('ubuntu')  #Example\n",
    "centos = wiki.get_category('centos')  #Example\n",
    "\n",
    "# Finding common attributes\n",
    "set(ubuntu['categories']).intersection(set(centos['categories']))"
   ]
  },
  {
   "cell_type": "code",
   "execution_count": 14,
   "metadata": {},
   "outputs": [
    {
     "data": {
      "text/plain": [
       "{'database-related_software_for_linux',\n",
       " 'distributed_computing_architecture',\n",
       " 'document-oriented_databases',\n",
       " 'nosql',\n",
       " 'structured_storage'}"
      ]
     },
     "execution_count": 14,
     "metadata": {},
     "output_type": "execute_result"
    }
   ],
   "source": [
    "mongodb = wiki.get_category('mongodb')  #Example\n",
    "couchdb = wiki.get_category('couchdb')  #Example\n",
    "\n",
    "# Finding common attributes\n",
    "set(mongodb['categories']).intersection(set(couchdb['categories']))"
   ]
  },
  {
   "cell_type": "code",
   "execution_count": null,
   "metadata": {},
   "outputs": [],
   "source": []
  }
 ],
 "metadata": {
  "kernelspec": {
   "display_name": "Python 3",
   "language": "python",
   "name": "python3"
  },
  "language_info": {
   "codemirror_mode": {
    "name": "ipython",
    "version": 3
   },
   "file_extension": ".py",
   "mimetype": "text/x-python",
   "name": "python",
   "nbconvert_exporter": "python",
   "pygments_lexer": "ipython3",
   "version": "3.6.9"
  }
 },
 "nbformat": 4,
 "nbformat_minor": 2
}
